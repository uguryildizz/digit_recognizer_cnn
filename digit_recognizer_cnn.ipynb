{
 "cells": [
  {
   "cell_type": "code",
   "execution_count": 1,
   "id": "8db77924",
   "metadata": {
    "_cell_guid": "b1076dfc-b9ad-4769-8c92-a6c4dae69d19",
    "_uuid": "8f2839f25d086af736a60e9eeb907d3b93b6e0e5",
    "execution": {
     "iopub.execute_input": "2022-02-15T21:38:32.693238Z",
     "iopub.status.busy": "2022-02-15T21:38:32.691392Z",
     "iopub.status.idle": "2022-02-15T21:38:39.357785Z",
     "shell.execute_reply": "2022-02-15T21:38:39.358797Z",
     "shell.execute_reply.started": "2022-02-15T19:56:46.065480Z"
    },
    "papermill": {
     "duration": 6.706223,
     "end_time": "2022-02-15T21:38:39.359250",
     "exception": false,
     "start_time": "2022-02-15T21:38:32.653027",
     "status": "completed"
    },
    "tags": []
   },
   "outputs": [],
   "source": [
    "#Importing libraries\n",
    "import numpy as np\n",
    "import pandas as pd\n",
    "import matplotlib.pyplot as plt\n",
    "%matplotlib inline\n",
    "import seaborn as sns\n",
    "import tensorflow as tf\n",
    "\n",
    "from sklearn.model_selection import train_test_split\n",
    "from sklearn.metrics import confusion_matrix\n",
    "import itertools\n",
    "\n",
    "from tensorflow.keras.optimizers import RMSprop\n",
    "from keras.callbacks import ReduceLROnPlateau\n",
    "\n",
    "np.random.seed(5)"
   ]
  },
  {
   "cell_type": "code",
   "execution_count": 2,
   "id": "c45653ef",
   "metadata": {
    "execution": {
     "iopub.execute_input": "2022-02-15T21:38:39.431297Z",
     "iopub.status.busy": "2022-02-15T21:38:39.430302Z",
     "iopub.status.idle": "2022-02-15T21:38:45.440313Z",
     "shell.execute_reply": "2022-02-15T21:38:45.440821Z",
     "shell.execute_reply.started": "2022-02-15T19:56:46.576836Z"
    },
    "papermill": {
     "duration": 6.045688,
     "end_time": "2022-02-15T21:38:45.441007",
     "exception": false,
     "start_time": "2022-02-15T21:38:39.395319",
     "status": "completed"
    },
    "tags": []
   },
   "outputs": [
    {
     "data": {
      "text/html": [
       "<div>\n",
       "<style scoped>\n",
       "    .dataframe tbody tr th:only-of-type {\n",
       "        vertical-align: middle;\n",
       "    }\n",
       "\n",
       "    .dataframe tbody tr th {\n",
       "        vertical-align: top;\n",
       "    }\n",
       "\n",
       "    .dataframe thead th {\n",
       "        text-align: right;\n",
       "    }\n",
       "</style>\n",
       "<table border=\"1\" class=\"dataframe\">\n",
       "  <thead>\n",
       "    <tr style=\"text-align: right;\">\n",
       "      <th></th>\n",
       "      <th>label</th>\n",
       "      <th>pixel0</th>\n",
       "      <th>pixel1</th>\n",
       "      <th>pixel2</th>\n",
       "      <th>pixel3</th>\n",
       "      <th>pixel4</th>\n",
       "      <th>pixel5</th>\n",
       "      <th>pixel6</th>\n",
       "      <th>pixel7</th>\n",
       "      <th>pixel8</th>\n",
       "      <th>...</th>\n",
       "      <th>pixel774</th>\n",
       "      <th>pixel775</th>\n",
       "      <th>pixel776</th>\n",
       "      <th>pixel777</th>\n",
       "      <th>pixel778</th>\n",
       "      <th>pixel779</th>\n",
       "      <th>pixel780</th>\n",
       "      <th>pixel781</th>\n",
       "      <th>pixel782</th>\n",
       "      <th>pixel783</th>\n",
       "    </tr>\n",
       "  </thead>\n",
       "  <tbody>\n",
       "    <tr>\n",
       "      <th>0</th>\n",
       "      <td>1</td>\n",
       "      <td>0</td>\n",
       "      <td>0</td>\n",
       "      <td>0</td>\n",
       "      <td>0</td>\n",
       "      <td>0</td>\n",
       "      <td>0</td>\n",
       "      <td>0</td>\n",
       "      <td>0</td>\n",
       "      <td>0</td>\n",
       "      <td>...</td>\n",
       "      <td>0</td>\n",
       "      <td>0</td>\n",
       "      <td>0</td>\n",
       "      <td>0</td>\n",
       "      <td>0</td>\n",
       "      <td>0</td>\n",
       "      <td>0</td>\n",
       "      <td>0</td>\n",
       "      <td>0</td>\n",
       "      <td>0</td>\n",
       "    </tr>\n",
       "    <tr>\n",
       "      <th>1</th>\n",
       "      <td>0</td>\n",
       "      <td>0</td>\n",
       "      <td>0</td>\n",
       "      <td>0</td>\n",
       "      <td>0</td>\n",
       "      <td>0</td>\n",
       "      <td>0</td>\n",
       "      <td>0</td>\n",
       "      <td>0</td>\n",
       "      <td>0</td>\n",
       "      <td>...</td>\n",
       "      <td>0</td>\n",
       "      <td>0</td>\n",
       "      <td>0</td>\n",
       "      <td>0</td>\n",
       "      <td>0</td>\n",
       "      <td>0</td>\n",
       "      <td>0</td>\n",
       "      <td>0</td>\n",
       "      <td>0</td>\n",
       "      <td>0</td>\n",
       "    </tr>\n",
       "    <tr>\n",
       "      <th>2</th>\n",
       "      <td>1</td>\n",
       "      <td>0</td>\n",
       "      <td>0</td>\n",
       "      <td>0</td>\n",
       "      <td>0</td>\n",
       "      <td>0</td>\n",
       "      <td>0</td>\n",
       "      <td>0</td>\n",
       "      <td>0</td>\n",
       "      <td>0</td>\n",
       "      <td>...</td>\n",
       "      <td>0</td>\n",
       "      <td>0</td>\n",
       "      <td>0</td>\n",
       "      <td>0</td>\n",
       "      <td>0</td>\n",
       "      <td>0</td>\n",
       "      <td>0</td>\n",
       "      <td>0</td>\n",
       "      <td>0</td>\n",
       "      <td>0</td>\n",
       "    </tr>\n",
       "    <tr>\n",
       "      <th>3</th>\n",
       "      <td>4</td>\n",
       "      <td>0</td>\n",
       "      <td>0</td>\n",
       "      <td>0</td>\n",
       "      <td>0</td>\n",
       "      <td>0</td>\n",
       "      <td>0</td>\n",
       "      <td>0</td>\n",
       "      <td>0</td>\n",
       "      <td>0</td>\n",
       "      <td>...</td>\n",
       "      <td>0</td>\n",
       "      <td>0</td>\n",
       "      <td>0</td>\n",
       "      <td>0</td>\n",
       "      <td>0</td>\n",
       "      <td>0</td>\n",
       "      <td>0</td>\n",
       "      <td>0</td>\n",
       "      <td>0</td>\n",
       "      <td>0</td>\n",
       "    </tr>\n",
       "    <tr>\n",
       "      <th>4</th>\n",
       "      <td>0</td>\n",
       "      <td>0</td>\n",
       "      <td>0</td>\n",
       "      <td>0</td>\n",
       "      <td>0</td>\n",
       "      <td>0</td>\n",
       "      <td>0</td>\n",
       "      <td>0</td>\n",
       "      <td>0</td>\n",
       "      <td>0</td>\n",
       "      <td>...</td>\n",
       "      <td>0</td>\n",
       "      <td>0</td>\n",
       "      <td>0</td>\n",
       "      <td>0</td>\n",
       "      <td>0</td>\n",
       "      <td>0</td>\n",
       "      <td>0</td>\n",
       "      <td>0</td>\n",
       "      <td>0</td>\n",
       "      <td>0</td>\n",
       "    </tr>\n",
       "  </tbody>\n",
       "</table>\n",
       "<p>5 rows × 785 columns</p>\n",
       "</div>"
      ],
      "text/plain": [
       "   label  pixel0  pixel1  pixel2  pixel3  pixel4  pixel5  pixel6  pixel7  \\\n",
       "0      1       0       0       0       0       0       0       0       0   \n",
       "1      0       0       0       0       0       0       0       0       0   \n",
       "2      1       0       0       0       0       0       0       0       0   \n",
       "3      4       0       0       0       0       0       0       0       0   \n",
       "4      0       0       0       0       0       0       0       0       0   \n",
       "\n",
       "   pixel8  ...  pixel774  pixel775  pixel776  pixel777  pixel778  pixel779  \\\n",
       "0       0  ...         0         0         0         0         0         0   \n",
       "1       0  ...         0         0         0         0         0         0   \n",
       "2       0  ...         0         0         0         0         0         0   \n",
       "3       0  ...         0         0         0         0         0         0   \n",
       "4       0  ...         0         0         0         0         0         0   \n",
       "\n",
       "   pixel780  pixel781  pixel782  pixel783  \n",
       "0         0         0         0         0  \n",
       "1         0         0         0         0  \n",
       "2         0         0         0         0  \n",
       "3         0         0         0         0  \n",
       "4         0         0         0         0  \n",
       "\n",
       "[5 rows x 785 columns]"
      ]
     },
     "execution_count": 2,
     "metadata": {},
     "output_type": "execute_result"
    }
   ],
   "source": [
    "#Loading the data\n",
    "train = pd.read_csv('../input/digit-recognizer/train.csv')\n",
    "test = pd.read_csv('../input/digit-recognizer/test.csv')\n",
    "train.head()"
   ]
  },
  {
   "cell_type": "code",
   "execution_count": 3,
   "id": "19e76180",
   "metadata": {
    "execution": {
     "iopub.execute_input": "2022-02-15T21:38:45.512463Z",
     "iopub.status.busy": "2022-02-15T21:38:45.511472Z",
     "iopub.status.idle": "2022-02-15T21:38:45.516819Z",
     "shell.execute_reply": "2022-02-15T21:38:45.517333Z",
     "shell.execute_reply.started": "2022-02-15T19:56:51.295123Z"
    },
    "papermill": {
     "duration": 0.042656,
     "end_time": "2022-02-15T21:38:45.517489",
     "exception": false,
     "start_time": "2022-02-15T21:38:45.474833",
     "status": "completed"
    },
    "tags": []
   },
   "outputs": [
    {
     "name": "stdout",
     "output_type": "stream",
     "text": [
      "train shape: (42000, 785)\n",
      "test shape (28000, 784)\n"
     ]
    }
   ],
   "source": [
    "#Shapes\n",
    "\n",
    "print('train shape:',train.shape)\n",
    "print('test shape',test.shape)"
   ]
  },
  {
   "cell_type": "code",
   "execution_count": 4,
   "id": "ed361e22",
   "metadata": {
    "execution": {
     "iopub.execute_input": "2022-02-15T21:38:45.589330Z",
     "iopub.status.busy": "2022-02-15T21:38:45.588233Z",
     "iopub.status.idle": "2022-02-15T21:38:45.815431Z",
     "shell.execute_reply": "2022-02-15T21:38:45.814707Z",
     "shell.execute_reply.started": "2022-02-15T19:56:51.301724Z"
    },
    "papermill": {
     "duration": 0.264757,
     "end_time": "2022-02-15T21:38:45.815599",
     "exception": false,
     "start_time": "2022-02-15T21:38:45.550842",
     "status": "completed"
    },
    "tags": []
   },
   "outputs": [
    {
     "name": "stdout",
     "output_type": "stream",
     "text": [
      "train_x shape:  (42000, 784)\n",
      "train_y shape:  (42000,)\n",
      "test_x shape:  (28000, 784)\n"
     ]
    }
   ],
   "source": [
    "train_y = train['label'].astype('float32')\n",
    "train_x = train.drop(['label'],axis=1).astype('int32')\n",
    "test_x = test.astype('float32')\n",
    "\n",
    "print('train_x shape: ',train_x.shape)\n",
    "print('train_y shape: ',train_y.shape)\n",
    "print('test_x shape: ',test_x.shape)"
   ]
  },
  {
   "cell_type": "code",
   "execution_count": 5,
   "id": "a0b994e1",
   "metadata": {
    "execution": {
     "iopub.execute_input": "2022-02-15T21:38:45.890002Z",
     "iopub.status.busy": "2022-02-15T21:38:45.889330Z",
     "iopub.status.idle": "2022-02-15T21:38:46.125688Z",
     "shell.execute_reply": "2022-02-15T21:38:46.126230Z",
     "shell.execute_reply.started": "2022-02-15T19:56:51.569742Z"
    },
    "papermill": {
     "duration": 0.276546,
     "end_time": "2022-02-15T21:38:46.126394",
     "exception": false,
     "start_time": "2022-02-15T21:38:45.849848",
     "status": "completed"
    },
    "tags": []
   },
   "outputs": [
    {
     "name": "stderr",
     "output_type": "stream",
     "text": [
      "/opt/conda/lib/python3.7/site-packages/seaborn/_decorators.py:43: FutureWarning: Pass the following variable as a keyword arg: x. From version 0.12, the only valid positional argument will be `data`, and passing other arguments without an explicit keyword will result in an error or misinterpretation.\n",
      "  FutureWarning\n"
     ]
    },
    {
     "data": {
      "image/png": "[encoded data removed]",
      "text/plain": [
       "<Figure size 432x288 with 1 Axes>"
      ]
     },
     "metadata": {
      "needs_background": "light"
     },
     "output_type": "display_data"
    },
    {
     "data": {
      "text/plain": [
       "1.0    4684\n",
       "7.0    4401\n",
       "3.0    4351\n",
       "9.0    4188\n",
       "2.0    4177\n",
       "6.0    4137\n",
       "0.0    4132\n",
       "4.0    4072\n",
       "8.0    4063\n",
       "5.0    3795\n",
       "Name: label, dtype: int64"
      ]
     },
     "execution_count": 5,
     "metadata": {},
     "output_type": "execute_result"
    }
   ],
   "source": [
    "sns.countplot(train_y)\n",
    "plt.show()\n",
    "train_y.value_counts()"
   ]
  },
  {
   "cell_type": "code",
   "execution_count": 6,
   "id": "c1631b9c",
   "metadata": {
    "execution": {
     "iopub.execute_input": "2022-02-15T21:38:46.206056Z",
     "iopub.status.busy": "2022-02-15T21:38:46.205382Z",
     "iopub.status.idle": "2022-02-15T21:38:46.207838Z",
     "shell.execute_reply": "2022-02-15T21:38:46.208320Z",
     "shell.execute_reply.started": "2022-02-15T19:56:51.777324Z"
    },
    "papermill": {
     "duration": 0.046058,
     "end_time": "2022-02-15T21:38:46.208478",
     "exception": false,
     "start_time": "2022-02-15T21:38:46.162420",
     "status": "completed"
    },
    "tags": []
   },
   "outputs": [
    {
     "data": {
      "text/plain": [
       "(42000, 784)"
      ]
     },
     "execution_count": 6,
     "metadata": {},
     "output_type": "execute_result"
    }
   ],
   "source": [
    "train_x.shape"
   ]
  },
  {
   "cell_type": "code",
   "execution_count": 7,
   "id": "b68d201e",
   "metadata": {
    "execution": {
     "iopub.execute_input": "2022-02-15T21:38:46.285642Z",
     "iopub.status.busy": "2022-02-15T21:38:46.285029Z",
     "iopub.status.idle": "2022-02-15T21:38:46.420957Z",
     "shell.execute_reply": "2022-02-15T21:38:46.420280Z",
     "shell.execute_reply.started": "2022-02-15T19:56:51.784428Z"
    },
    "papermill": {
     "duration": 0.175793,
     "end_time": "2022-02-15T21:38:46.421116",
     "exception": false,
     "start_time": "2022-02-15T21:38:46.245323",
     "status": "completed"
    },
    "tags": []
   },
   "outputs": [
    {
     "name": "stdout",
     "output_type": "stream",
     "text": [
      "train_x shape:  (42000, 28, 28, 1)\n",
      "test_x shape:  (28000, 28, 28, 1)\n"
     ]
    }
   ],
   "source": [
    "#Normalization and Reshape\n",
    "\n",
    "# Reshape image in 3 dimensions (height = 28px, width = 28px , canal = 1)\n",
    "train_x = train_x.values.reshape(-1,28,28,1)\n",
    "# Normalize the data\n",
    "train_x = train_x / 255.0\n",
    "# Reshape image in 3 dimensions (height = 28px, width = 28px , canal = 1)\n",
    "test_x = test_x.values.reshape(-1,28,28,1)\n",
    "# Normalize the data\n",
    "test_x = test_x / 255.0\n",
    "\n",
    "print('train_x shape: ',train_x.shape)\n",
    "print('test_x shape: ',test_x.shape)"
   ]
  },
  {
   "cell_type": "code",
   "execution_count": 8,
   "id": "d60fe1a6",
   "metadata": {
    "execution": {
     "iopub.execute_input": "2022-02-15T21:38:46.498827Z",
     "iopub.status.busy": "2022-02-15T21:38:46.498205Z",
     "iopub.status.idle": "2022-02-15T21:38:46.503814Z",
     "shell.execute_reply": "2022-02-15T21:38:46.504405Z",
     "shell.execute_reply.started": "2022-02-15T19:56:52.373901Z"
    },
    "papermill": {
     "duration": 0.046807,
     "end_time": "2022-02-15T21:38:46.504568",
     "exception": false,
     "start_time": "2022-02-15T21:38:46.457761",
     "status": "completed"
    },
    "tags": []
   },
   "outputs": [
    {
     "data": {
      "text/plain": [
       "(42000, 10)"
      ]
     },
     "execution_count": 8,
     "metadata": {},
     "output_type": "execute_result"
    }
   ],
   "source": [
    "#One Hot Encoding\n",
    "\n",
    "train_y = tf.keras.utils.to_categorical(train_y,10)\n",
    "train_y.shape"
   ]
  },
  {
   "cell_type": "code",
   "execution_count": 9,
   "id": "db4f6a57",
   "metadata": {
    "execution": {
     "iopub.execute_input": "2022-02-15T21:38:46.584340Z",
     "iopub.status.busy": "2022-02-15T21:38:46.581633Z",
     "iopub.status.idle": "2022-02-15T21:38:46.587191Z",
     "shell.execute_reply": "2022-02-15T21:38:46.587712Z",
     "shell.execute_reply.started": "2022-02-15T19:56:54.930867Z"
    },
    "papermill": {
     "duration": 0.046431,
     "end_time": "2022-02-15T21:38:46.587874",
     "exception": false,
     "start_time": "2022-02-15T21:38:46.541443",
     "status": "completed"
    },
    "tags": []
   },
   "outputs": [
    {
     "data": {
      "text/plain": [
       "0    1\n",
       "1    0\n",
       "2    1\n",
       "3    4\n",
       "4    0\n",
       "Name: label, dtype: int64"
      ]
     },
     "execution_count": 9,
     "metadata": {},
     "output_type": "execute_result"
    }
   ],
   "source": [
    "train['label'].head()"
   ]
  },
  {
   "cell_type": "code",
   "execution_count": 10,
   "id": "5b1146e7",
   "metadata": {
    "execution": {
     "iopub.execute_input": "2022-02-15T21:38:46.668726Z",
     "iopub.status.busy": "2022-02-15T21:38:46.667142Z",
     "iopub.status.idle": "2022-02-15T21:38:46.671526Z",
     "shell.execute_reply": "2022-02-15T21:38:46.672190Z",
     "shell.execute_reply.started": "2022-02-15T19:56:55.723548Z"
    },
    "papermill": {
     "duration": 0.047298,
     "end_time": "2022-02-15T21:38:46.672358",
     "exception": false,
     "start_time": "2022-02-15T21:38:46.625060",
     "status": "completed"
    },
    "tags": []
   },
   "outputs": [
    {
     "data": {
      "text/plain": [
       "array([[0., 1., 0., 0., 0., 0., 0., 0., 0., 0.],\n",
       "       [1., 0., 0., 0., 0., 0., 0., 0., 0., 0.],\n",
       "       [0., 1., 0., 0., 0., 0., 0., 0., 0., 0.],\n",
       "       [0., 0., 0., 0., 1., 0., 0., 0., 0., 0.],\n",
       "       [1., 0., 0., 0., 0., 0., 0., 0., 0., 0.]], dtype=float32)"
      ]
     },
     "execution_count": 10,
     "metadata": {},
     "output_type": "execute_result"
    }
   ],
   "source": [
    "train_y[0:5,:]"
   ]
  },
  {
   "cell_type": "code",
   "execution_count": 11,
   "id": "f2c369fc",
   "metadata": {
    "execution": {
     "iopub.execute_input": "2022-02-15T21:38:46.753620Z",
     "iopub.status.busy": "2022-02-15T21:38:46.752902Z",
     "iopub.status.idle": "2022-02-15T21:38:47.165827Z",
     "shell.execute_reply": "2022-02-15T21:38:47.165271Z",
     "shell.execute_reply.started": "2022-02-15T19:56:56.525230Z"
    },
    "papermill": {
     "duration": 0.455348,
     "end_time": "2022-02-15T21:38:47.165999",
     "exception": false,
     "start_time": "2022-02-15T21:38:46.710651",
     "status": "completed"
    },
    "tags": []
   },
   "outputs": [],
   "source": [
    "#split the train and validation set\n",
    "X_train, X_val, y_train, y_val = train_test_split(train_x,train_y,test_size=0.1,random_state=5)"
   ]
  },
  {
   "cell_type": "code",
   "execution_count": 12,
   "id": "97c1cb91",
   "metadata": {
    "execution": {
     "iopub.execute_input": "2022-02-15T21:38:47.259526Z",
     "iopub.status.busy": "2022-02-15T21:38:47.248418Z",
     "iopub.status.idle": "2022-02-15T21:38:48.550347Z",
     "shell.execute_reply": "2022-02-15T21:38:48.550889Z",
     "shell.execute_reply.started": "2022-02-15T19:56:58.476881Z"
    },
    "papermill": {
     "duration": 1.346805,
     "end_time": "2022-02-15T21:38:48.551093",
     "exception": false,
     "start_time": "2022-02-15T21:38:47.204288",
     "status": "completed"
    },
    "tags": []
   },
   "outputs": [
    {
     "data": {
      "image/png": "[encoded data removed]",
      "text/plain": [
       "<Figure size 864x720 with 30 Axes>"
      ]
     },
     "metadata": {
      "needs_background": "light"
     },
     "output_type": "display_data"
    }
   ],
   "source": [
    "#Visualization\n",
    "\n",
    "rows = 5\n",
    "cols = 6\n",
    "\n",
    "f = plt.figure(figsize=(2*cols,2*rows)) #defining a figure\n",
    "\n",
    "for i in range(rows*cols):\n",
    "    f.add_subplot(rows,cols,i+1)\n",
    "    plt.imshow(X_train[i].reshape([28,28]),cmap='gray')\n",
    "    plt.axis('off')"
   ]
  },
  {
   "cell_type": "code",
   "execution_count": 13,
   "id": "9449d4cc",
   "metadata": {
    "execution": {
     "iopub.execute_input": "2022-02-15T21:38:48.649661Z",
     "iopub.status.busy": "2022-02-15T21:38:48.648899Z",
     "iopub.status.idle": "2022-02-15T21:38:48.818689Z",
     "shell.execute_reply": "2022-02-15T21:38:48.819160Z",
     "shell.execute_reply.started": "2022-02-15T19:57:05.178472Z"
    },
    "papermill": {
     "duration": 0.227902,
     "end_time": "2022-02-15T21:38:48.819356",
     "exception": false,
     "start_time": "2022-02-15T21:38:48.591454",
     "status": "completed"
    },
    "tags": []
   },
   "outputs": [
    {
     "data": {
      "image/png": "[encoded data removed]",
      "text/plain": [
       "<Figure size 432x288 with 1 Axes>"
      ]
     },
     "metadata": {
      "needs_background": "light"
     },
     "output_type": "display_data"
    }
   ],
   "source": [
    "#visualization of the first number\n",
    "\n",
    "plt.imshow(train_x[0].reshape(28,28))\n",
    "plt.title(f'Digit: {train_y[0]}')\n",
    "plt.show()"
   ]
  },
  {
   "cell_type": "code",
   "execution_count": 14,
   "id": "cad2b8d1",
   "metadata": {
    "execution": {
     "iopub.execute_input": "2022-02-15T21:38:48.903036Z",
     "iopub.status.busy": "2022-02-15T21:38:48.902359Z",
     "iopub.status.idle": "2022-02-15T21:38:53.866538Z",
     "shell.execute_reply": "2022-02-15T21:38:53.867045Z",
     "shell.execute_reply.started": "2022-02-15T20:03:14.360110Z"
    },
    "papermill": {
     "duration": 5.007883,
     "end_time": "2022-02-15T21:38:53.867221",
     "exception": false,
     "start_time": "2022-02-15T21:38:48.859338",
     "status": "completed"
    },
    "tags": []
   },
   "outputs": [
    {
     "data": {
      "image/png": "[encoded data removed]",
      "text/plain": [
       "<Figure size 1080x1080 with 1 Axes>"
      ]
     },
     "metadata": {
      "needs_background": "light"
     },
     "output_type": "display_data"
    }
   ],
   "source": [
    "#Detail Visualization of first number\n",
    "\n",
    "def visualize_input(img, ax):\n",
    "    ax.imshow(img, cmap='gray')\n",
    "    width, height = img.shape\n",
    "    thresh = img.max()/2.5\n",
    "    \n",
    "    for x in range(width):\n",
    "        for y in range(height):\n",
    "            ax.annotate(str(round(img[x][y],2)), xy=(y,x),\n",
    "            horizontalalignment = 'center',\n",
    "            verticalalignment = 'center',\n",
    "            color = 'white' if img[x][y]<thresh else 'black')\n",
    "\n",
    "fig= plt.figure(figsize=(15,15))\n",
    "ax = fig.add_subplot(111)\n",
    "visualize_input(train_x[0].reshape(28,28),ax)"
   ]
  },
  {
   "cell_type": "code",
   "execution_count": 15,
   "id": "0c767c2b",
   "metadata": {
    "execution": {
     "iopub.execute_input": "2022-02-15T21:38:53.956237Z",
     "iopub.status.busy": "2022-02-15T21:38:53.955156Z",
     "iopub.status.idle": "2022-02-15T21:38:54.158763Z",
     "shell.execute_reply": "2022-02-15T21:38:54.159317Z",
     "shell.execute_reply.started": "2022-02-15T20:18:25.811108Z"
    },
    "papermill": {
     "duration": 0.249838,
     "end_time": "2022-02-15T21:38:54.159482",
     "exception": false,
     "start_time": "2022-02-15T21:38:53.909644",
     "status": "completed"
    },
    "tags": []
   },
   "outputs": [
    {
     "name": "stdout",
     "output_type": "stream",
     "text": [
      "Model: \"sequential\"\n",
      "_________________________________________________________________\n",
      "Layer (type)                 Output Shape              Param #   \n",
      "=================================================================\n",
      "conv2d (Conv2D)              (None, 26, 26, 32)        320       \n",
      "_________________________________________________________________\n",
      "conv2d_1 (Conv2D)            (None, 24, 24, 32)        9248      \n",
      "_________________________________________________________________\n",
      "max_pooling2d (MaxPooling2D) (None, 12, 12, 32)        0         \n",
      "_________________________________________________________________\n",
      "conv2d_2 (Conv2D)            (None, 12, 12, 64)        18496     \n",
      "_________________________________________________________________\n",
      "conv2d_3 (Conv2D)            (None, 12, 12, 64)        36928     \n",
      "_________________________________________________________________\n",
      "max_pooling2d_1 (MaxPooling2 (None, 6, 6, 64)          0         \n",
      "_________________________________________________________________\n",
      "dropout (Dropout)            (None, 6, 6, 64)          0         \n",
      "_________________________________________________________________\n",
      "conv2d_4 (Conv2D)            (None, 6, 6, 64)          36928     \n",
      "_________________________________________________________________\n",
      "conv2d_5 (Conv2D)            (None, 6, 6, 64)          36928     \n",
      "_________________________________________________________________\n",
      "max_pooling2d_2 (MaxPooling2 (None, 3, 3, 64)          0         \n",
      "_________________________________________________________________\n",
      "dropout_1 (Dropout)          (None, 3, 3, 64)          0         \n",
      "_________________________________________________________________\n",
      "flatten (Flatten)            (None, 576)               0         \n",
      "_________________________________________________________________\n",
      "dense (Dense)                (None, 256)               147712    \n",
      "_________________________________________________________________\n",
      "dense_1 (Dense)              (None, 256)               65792     \n",
      "_________________________________________________________________\n",
      "dropout_2 (Dropout)          (None, 256)               0         \n",
      "_________________________________________________________________\n",
      "dense_2 (Dense)              (None, 10)                2570      \n",
      "=================================================================\n",
      "Total params: 354,922\n",
      "Trainable params: 354,922\n",
      "Non-trainable params: 0\n",
      "_________________________________________________________________\n"
     ]
    },
    {
     "name": "stderr",
     "output_type": "stream",
     "text": [
      "2022-02-15 21:38:54.012484: I tensorflow/core/common_runtime/process_util.cc:146] Creating new thread pool with default inter op setting: 2. Tune using inter_op_parallelism_threads for best performance.\n"
     ]
    }
   ],
   "source": [
    "#Defining the model\n",
    "\n",
    "model = tf.keras.Sequential([\n",
    "    tf.keras.layers.Conv2D(32,(3,3),activation='relu',input_shape=(28,28,1)),\n",
    "    tf.keras.layers.Conv2D(32,(3,3),activation='relu'),\n",
    "    tf.keras.layers.MaxPooling2D(2,2),\n",
    "    \n",
    "    tf.keras.layers.Conv2D(64,(3,3),activation='relu',padding='Same'),\n",
    "    tf.keras.layers.Conv2D(64,(3,3),activation='relu',padding='Same'),\n",
    "    tf.keras.layers.MaxPooling2D(pool_size=(2,2),strides=(2,2)),\n",
    "    tf.keras.layers.Dropout(0.25),\n",
    "    \n",
    "    tf.keras.layers.Conv2D(64,(3,3),activation='relu',padding='Same'),\n",
    "    tf.keras.layers.Conv2D(64,(3,3),activation='relu',padding='Same'),\n",
    "    tf.keras.layers.MaxPooling2D(pool_size=(2,2),strides=(2,2)),\n",
    "    tf.keras.layers.Dropout(0.25),\n",
    "    \n",
    "    tf.keras.layers.Flatten(),\n",
    "    tf.keras.layers.Dense(256,activation='relu'),\n",
    "    tf.keras.layers.Dense(256,activation='relu'),\n",
    "    tf.keras.layers.Dropout(0.50),\n",
    "    tf.keras.layers.Dense(10,activation='softmax')\n",
    "])\n",
    "\n",
    "model.summary()"
   ]
  },
  {
   "cell_type": "code",
   "execution_count": 16,
   "id": "df29ad25",
   "metadata": {
    "execution": {
     "iopub.execute_input": "2022-02-15T21:38:54.250654Z",
     "iopub.status.busy": "2022-02-15T21:38:54.248699Z",
     "iopub.status.idle": "2022-02-15T21:38:54.252879Z",
     "shell.execute_reply": "2022-02-15T21:38:54.253367Z",
     "shell.execute_reply.started": "2022-02-15T20:19:39.484582Z"
    },
    "papermill": {
     "duration": 0.050974,
     "end_time": "2022-02-15T21:38:54.253535",
     "exception": false,
     "start_time": "2022-02-15T21:38:54.202561",
     "status": "completed"
    },
    "tags": []
   },
   "outputs": [],
   "source": [
    "#Define the optimizer\n",
    "\n",
    "optimizer = RMSprop(learning_rate=0.001,rho=0.9,epsilon=1e-08,decay=0.0)"
   ]
  },
  {
   "cell_type": "code",
   "execution_count": 17,
   "id": "f8cac975",
   "metadata": {
    "execution": {
     "iopub.execute_input": "2022-02-15T21:38:54.350852Z",
     "iopub.status.busy": "2022-02-15T21:38:54.346925Z",
     "iopub.status.idle": "2022-02-15T21:38:54.357332Z",
     "shell.execute_reply": "2022-02-15T21:38:54.356753Z",
     "shell.execute_reply.started": "2022-02-15T20:20:17.255599Z"
    },
    "papermill": {
     "duration": 0.060447,
     "end_time": "2022-02-15T21:38:54.357474",
     "exception": false,
     "start_time": "2022-02-15T21:38:54.297027",
     "status": "completed"
    },
    "tags": []
   },
   "outputs": [],
   "source": [
    "#Compile the model\n",
    "\n",
    "model.compile(optimizer='adam',loss='categorical_crossentropy',metrics=['accuracy'])"
   ]
  },
  {
   "cell_type": "code",
   "execution_count": 18,
   "id": "c6177fb8",
   "metadata": {
    "execution": {
     "iopub.execute_input": "2022-02-15T21:38:54.455401Z",
     "iopub.status.busy": "2022-02-15T21:38:54.454367Z",
     "iopub.status.idle": "2022-02-15T21:38:54.456289Z",
     "shell.execute_reply": "2022-02-15T21:38:54.456788Z",
     "shell.execute_reply.started": "2022-02-15T20:21:25.910235Z"
    },
    "papermill": {
     "duration": 0.056454,
     "end_time": "2022-02-15T21:38:54.456954",
     "exception": false,
     "start_time": "2022-02-15T21:38:54.400500",
     "status": "completed"
    },
    "tags": []
   },
   "outputs": [],
   "source": [
    "#Set a learning rate annealer\n",
    "\n",
    "learning_rate_reduction = ReduceLROnPlateau(monitor='val_acc',\n",
    "                                           patience=3,\n",
    "                                           verbose=1,\n",
    "                                           factor=0.5,\n",
    "                                           min_lr=0.00001)"
   ]
  },
  {
   "cell_type": "code",
   "execution_count": 19,
   "id": "1fa7b26e",
   "metadata": {
    "execution": {
     "iopub.execute_input": "2022-02-15T21:38:54.560261Z",
     "iopub.status.busy": "2022-02-15T21:38:54.559075Z",
     "iopub.status.idle": "2022-02-15T21:38:54.561925Z",
     "shell.execute_reply": "2022-02-15T21:38:54.562550Z",
     "shell.execute_reply.started": "2022-02-15T20:26:52.075445Z"
    },
    "papermill": {
     "duration": 0.055081,
     "end_time": "2022-02-15T21:38:54.562743",
     "exception": false,
     "start_time": "2022-02-15T21:38:54.507662",
     "status": "completed"
    },
    "tags": []
   },
   "outputs": [],
   "source": [
    "epochs=15\n",
    "batch_size=86"
   ]
  },
  {
   "cell_type": "code",
   "execution_count": 20,
   "id": "82e99131",
   "metadata": {
    "execution": {
     "iopub.execute_input": "2022-02-15T21:38:54.652200Z",
     "iopub.status.busy": "2022-02-15T21:38:54.651518Z",
     "iopub.status.idle": "2022-02-15T21:38:54.774077Z",
     "shell.execute_reply": "2022-02-15T21:38:54.774607Z",
     "shell.execute_reply.started": "2022-02-15T20:26:19.481864Z"
    },
    "papermill": {
     "duration": 0.169079,
     "end_time": "2022-02-15T21:38:54.774815",
     "exception": false,
     "start_time": "2022-02-15T21:38:54.605736",
     "status": "completed"
    },
    "tags": []
   },
   "outputs": [],
   "source": [
    "#Data Augmentation\n",
    "\n",
    "from keras.preprocessing.image import ImageDataGenerator\n",
    "\n",
    "datagen = ImageDataGenerator(rotation_range=10,zoom_range=0.1,width_shift_range=0.1,\n",
    "                             height_shift_range=0.1)\n",
    "\n",
    "datagen.fit(X_train)"
   ]
  },
  {
   "cell_type": "code",
   "execution_count": 21,
   "id": "b2e7d467",
   "metadata": {
    "execution": {
     "iopub.execute_input": "2022-02-15T21:38:54.864249Z",
     "iopub.status.busy": "2022-02-15T21:38:54.863632Z",
     "iopub.status.idle": "2022-02-15T21:58:21.345639Z",
     "shell.execute_reply": "2022-02-15T21:58:21.346171Z",
     "shell.execute_reply.started": "2022-02-15T20:50:17.061698Z"
    },
    "papermill": {
     "duration": 1166.528659,
     "end_time": "2022-02-15T21:58:21.346549",
     "exception": false,
     "start_time": "2022-02-15T21:38:54.817890",
     "status": "completed"
    },
    "tags": []
   },
   "outputs": [
    {
     "name": "stderr",
     "output_type": "stream",
     "text": [
      "/opt/conda/lib/python3.7/site-packages/keras/engine/training.py:1972: UserWarning: `Model.fit_generator` is deprecated and will be removed in a future version. Please use `Model.fit`, which supports generators.\n",
      "  warnings.warn('`Model.fit_generator` is deprecated and '\n",
      "2022-02-15 21:38:55.014858: I tensorflow/compiler/mlir/mlir_graph_optimization_pass.cc:185] None of the MLIR Optimization Passes are enabled (registered 2)\n"
     ]
    },
    {
     "name": "stdout",
     "output_type": "stream",
     "text": [
      "Epoch 1/15\n",
      "439/439 - 52s - loss: 0.4857 - accuracy: 0.8373 - val_loss: 0.0723 - val_accuracy: 0.9764\n",
      "Epoch 2/15\n",
      "439/439 - 50s - loss: 0.1214 - accuracy: 0.9651 - val_loss: 0.0486 - val_accuracy: 0.9869\n",
      "Epoch 3/15\n",
      "439/439 - 51s - loss: 0.0893 - accuracy: 0.9743 - val_loss: 0.0535 - val_accuracy: 0.9848\n",
      "Epoch 4/15\n",
      "439/439 - 51s - loss: 0.0714 - accuracy: 0.9795 - val_loss: 0.0330 - val_accuracy: 0.9919\n",
      "Epoch 5/15\n",
      "439/439 - 50s - loss: 0.0648 - accuracy: 0.9819 - val_loss: 0.0395 - val_accuracy: 0.9898\n",
      "Epoch 6/15\n",
      "439/439 - 51s - loss: 0.0578 - accuracy: 0.9827 - val_loss: 0.0318 - val_accuracy: 0.9905\n",
      "Epoch 7/15\n",
      "439/439 - 50s - loss: 0.0530 - accuracy: 0.9850 - val_loss: 0.0351 - val_accuracy: 0.9910\n",
      "Epoch 8/15\n",
      "439/439 - 53s - loss: 0.0517 - accuracy: 0.9854 - val_loss: 0.0320 - val_accuracy: 0.9902\n",
      "Epoch 9/15\n",
      "439/439 - 51s - loss: 0.0447 - accuracy: 0.9870 - val_loss: 0.0403 - val_accuracy: 0.9895\n",
      "Epoch 10/15\n",
      "439/439 - 50s - loss: 0.0474 - accuracy: 0.9866 - val_loss: 0.0307 - val_accuracy: 0.9921\n",
      "Epoch 11/15\n",
      "439/439 - 51s - loss: 0.0436 - accuracy: 0.9879 - val_loss: 0.0270 - val_accuracy: 0.9924\n",
      "Epoch 12/15\n",
      "439/439 - 50s - loss: 0.0416 - accuracy: 0.9885 - val_loss: 0.0255 - val_accuracy: 0.9936\n",
      "Epoch 13/15\n",
      "439/439 - 50s - loss: 0.0420 - accuracy: 0.9879 - val_loss: 0.0248 - val_accuracy: 0.9931\n",
      "Epoch 14/15\n",
      "439/439 - 50s - loss: 0.0371 - accuracy: 0.9890 - val_loss: 0.0346 - val_accuracy: 0.9902\n",
      "Epoch 15/15\n",
      "439/439 - 50s - loss: 0.0379 - accuracy: 0.9896 - val_loss: 0.0330 - val_accuracy: 0.9919\n"
     ]
    }
   ],
   "source": [
    "#Fit the model\n",
    "\n",
    "final = model.fit_generator(datagen.flow(X_train,y_train,batch_size=batch_size),epochs=epochs,\n",
    "                   validation_data=(X_val,y_val),\n",
    "                   verbose=2,\n",
    "                   steps_per_epoch=X_train.shape[0]//batch_size,\n",
    "                   callbacks=[learning_rate_reduction])"
   ]
  },
  {
   "cell_type": "code",
   "execution_count": 22,
   "id": "0a64227f",
   "metadata": {
    "execution": {
     "iopub.execute_input": "2022-02-15T21:58:21.460327Z",
     "iopub.status.busy": "2022-02-15T21:58:21.459636Z",
     "iopub.status.idle": "2022-02-15T21:58:21.875533Z",
     "shell.execute_reply": "2022-02-15T21:58:21.875966Z",
     "shell.execute_reply.started": "2022-02-15T21:26:52.187488Z"
    },
    "papermill": {
     "duration": 0.475688,
     "end_time": "2022-02-15T21:58:21.876151",
     "exception": false,
     "start_time": "2022-02-15T21:58:21.400463",
     "status": "completed"
    },
    "tags": []
   },
   "outputs": [
    {
     "data": {
      "image/png": "[encoded data removed]",
      "text/plain": [
       "<Figure size 1440x504 with 2 Axes>"
      ]
     },
     "metadata": {
      "needs_background": "light"
     },
     "output_type": "display_data"
    }
   ],
   "source": [
    "# Plot the loss and accuracy curves for training and validation \n",
    "\n",
    "f = plt.figure(figsize=(20,7))\n",
    "f.add_subplot(121)\n",
    "plt.plot(final.epoch,final.history['accuracy'],label='accuracy')\n",
    "plt.plot(final.epoch,final.history['val_accuracy'],label='val_accuracy')\n",
    "plt.title('Accuracy Curve')\n",
    "plt.xlabel('Epochs')\n",
    "plt.ylabel('Accuracy')\n",
    "plt.grid(alpha=0.3)\n",
    "plt.legend()\n",
    "\n",
    "f.add_subplot(122)\n",
    "plt.plot(final.epoch,final.history['loss'],label='loss')\n",
    "plt.plot(final.epoch,final.history['val_loss'],label='val_loss')\n",
    "plt.title('Loss Curve')\n",
    "plt.xlabel('Epochs')\n",
    "plt.ylabel('Loss')\n",
    "plt.grid(alpha=0.3)\n",
    "plt.legend()\n",
    "\n",
    "plt.show()"
   ]
  },
  {
   "cell_type": "code",
   "execution_count": 23,
   "id": "f7206740",
   "metadata": {
    "execution": {
     "iopub.execute_input": "2022-02-15T21:58:21.991437Z",
     "iopub.status.busy": "2022-02-15T21:58:21.990463Z",
     "iopub.status.idle": "2022-02-15T21:58:22.337661Z",
     "shell.execute_reply": "2022-02-15T21:58:22.338167Z",
     "shell.execute_reply.started": "2022-02-15T21:26:15.796125Z"
    },
    "papermill": {
     "duration": 0.406572,
     "end_time": "2022-02-15T21:58:22.338337",
     "exception": false,
     "start_time": "2022-02-15T21:58:21.931765",
     "status": "completed"
    },
    "tags": []
   },
   "outputs": [
    {
     "data": {
      "image/png": "[encoded data removed]",
      "text/plain": [
       "<Figure size 432x288 with 2 Axes>"
      ]
     },
     "metadata": {
      "needs_background": "light"
     },
     "output_type": "display_data"
    }
   ],
   "source": [
    "#Plot the loss and accuracy curves for training and validation\n",
    "\n",
    "fig, ax = plt.subplots(2,1)\n",
    "ax[0].plot(final.history['loss'], color='g', label=\"Training loss\")\n",
    "ax[0].plot(final.history['val_loss'], color='r', label=\"validation loss\",axes =ax[0])\n",
    "legend = ax[0].legend(loc='best', shadow=True)\n",
    "\n",
    "ax[1].plot(final.history['accuracy'], color='g', label=\"Training accuracy\")\n",
    "ax[1].plot(final.history['val_accuracy'], color='r',label=\"Validation accuracy\")\n",
    "legend = ax[1].legend(loc='best', shadow=True)"
   ]
  },
  {
   "cell_type": "code",
   "execution_count": 24,
   "id": "a9491468",
   "metadata": {
    "execution": {
     "iopub.execute_input": "2022-02-15T21:58:22.461526Z",
     "iopub.status.busy": "2022-02-15T21:58:22.459510Z",
     "iopub.status.idle": "2022-02-15T21:58:22.463878Z",
     "shell.execute_reply": "2022-02-15T21:58:22.463355Z",
     "shell.execute_reply.started": "2022-02-15T21:28:19.112870Z"
    },
    "papermill": {
     "duration": 0.069395,
     "end_time": "2022-02-15T21:58:22.464038",
     "exception": false,
     "start_time": "2022-02-15T21:58:22.394643",
     "status": "completed"
    },
    "tags": []
   },
   "outputs": [],
   "source": [
    "#Confusion matrix\n",
    "\n",
    "def plot_confusion_matrix(cm, classes,\n",
    "                          normalize=False,\n",
    "                          title='Confusion matrix',\n",
    "                          cmap=plt.cm.Purples):\n",
    "    \"\"\"\n",
    "    This function prints and plots the confusion matrix.\n",
    "    Normalization can be applied by setting `normalize=True`.\n",
    "    \"\"\"\n",
    "    plt.imshow(cm, interpolation='nearest', cmap=cmap)\n",
    "    plt.title(title)\n",
    "    plt.colorbar()\n",
    "    tick_marks = np.arange(len(classes))\n",
    "    plt.xticks(tick_marks, classes, rotation=45)\n",
    "    plt.yticks(tick_marks, classes)\n",
    "\n",
    "    if normalize:\n",
    "        cm = cm.astype('float') / cm.sum(axis=1)[:, np.newaxis]\n",
    "\n",
    "    thresh = cm.max() / 2.\n",
    "    for i, j in itertools.product(range(cm.shape[0]), range(cm.shape[1])):\n",
    "        plt.text(j, i, cm[i, j],\n",
    "                 horizontalalignment=\"center\",\n",
    "                 color=\"white\" if cm[i, j] > thresh else \"black\")\n",
    "\n",
    "    plt.tight_layout()\n",
    "    plt.ylabel('True label')\n",
    "    plt.xlabel('Predicted label')"
   ]
  },
  {
   "cell_type": "code",
   "execution_count": 25,
   "id": "078eb0a5",
   "metadata": {
    "execution": {
     "iopub.execute_input": "2022-02-15T21:58:22.584404Z",
     "iopub.status.busy": "2022-02-15T21:58:22.583515Z",
     "iopub.status.idle": "2022-02-15T21:58:25.016423Z",
     "shell.execute_reply": "2022-02-15T21:58:25.016877Z",
     "shell.execute_reply.started": "2022-02-15T21:29:30.417172Z"
    },
    "papermill": {
     "duration": 2.495965,
     "end_time": "2022-02-15T21:58:25.017080",
     "exception": false,
     "start_time": "2022-02-15T21:58:22.521115",
     "status": "completed"
    },
    "tags": []
   },
   "outputs": [
    {
     "data": {
      "image/png": "[encoded data removed]",
      "text/plain": [
       "<Figure size 432x288 with 2 Axes>"
      ]
     },
     "metadata": {
      "needs_background": "light"
     },
     "output_type": "display_data"
    }
   ],
   "source": [
    "#Predict the values from the validation dataset\n",
    "y_pred = model.predict(X_val)\n",
    "#Convert predictions classes to one hot vectors \n",
    "y_pred_classes = np.argmax(y_pred,axis = 1) \n",
    "#Convert validation observations to one hot vectors\n",
    "y_true = np.argmax(y_val,axis = 1) \n",
    "#Compute the confusion matrix\n",
    "confusion_mtx = confusion_matrix(y_true, y_pred_classes) \n",
    "#Plot the confusion matrix\n",
    "plot_confusion_matrix(confusion_mtx, classes = range(10)) \n"
   ]
  },
  {
   "cell_type": "markdown",
   "id": "824ef4e3",
   "metadata": {
    "papermill": {
     "duration": 0.057841,
     "end_time": "2022-02-15T21:58:25.133391",
     "exception": false,
     "start_time": "2022-02-15T21:58:25.075550",
     "status": "completed"
    },
    "tags": []
   },
   "source": [
    "We can observe that our CNN performs very well on all digits with few errors considering the size of the validation set.\n",
    "\n",
    "However, it seems that our CNN has some little troubles with the 4 digits,where they are misclassified as 9. Sometimes it is very difficult to catch the difference between 4 and 9 when curves are smooth."
   ]
  },
  {
   "cell_type": "markdown",
   "id": "e9aa6968",
   "metadata": {
    "papermill": {
     "duration": 0.057555,
     "end_time": "2022-02-15T21:58:25.248524",
     "exception": false,
     "start_time": "2022-02-15T21:58:25.190969",
     "status": "completed"
    },
    "tags": []
   },
   "source": [
    "**Investigating The Errors**"
   ]
  },
  {
   "cell_type": "code",
   "execution_count": 26,
   "id": "96a84960",
   "metadata": {
    "execution": {
     "iopub.execute_input": "2022-02-15T21:58:25.370473Z",
     "iopub.status.busy": "2022-02-15T21:58:25.369785Z",
     "iopub.status.idle": "2022-02-15T21:58:25.372694Z",
     "shell.execute_reply": "2022-02-15T21:58:25.372163Z",
     "shell.execute_reply.started": "2022-02-15T21:31:53.822744Z"
    },
    "papermill": {
     "duration": 0.06578,
     "end_time": "2022-02-15T21:58:25.372829",
     "exception": false,
     "start_time": "2022-02-15T21:58:25.307049",
     "status": "completed"
    },
    "tags": []
   },
   "outputs": [],
   "source": [
    "errors = (y_pred_classes - y_true !=0)\n",
    "\n",
    "y_pred_classes_errors = y_pred_classes[errors]\n",
    "y_pred_errors = y_pred[errors]\n",
    "y_true_errors = y_true[errors]\n",
    "X_val_errors = X_val[errors]"
   ]
  },
  {
   "cell_type": "code",
   "execution_count": 27,
   "id": "05d22e6e",
   "metadata": {
    "execution": {
     "iopub.execute_input": "2022-02-15T21:58:25.498646Z",
     "iopub.status.busy": "2022-02-15T21:58:25.497954Z",
     "iopub.status.idle": "2022-02-15T21:58:25.500705Z",
     "shell.execute_reply": "2022-02-15T21:58:25.500105Z",
     "shell.execute_reply.started": "2022-02-15T21:32:06.444196Z"
    },
    "papermill": {
     "duration": 0.069462,
     "end_time": "2022-02-15T21:58:25.500830",
     "exception": false,
     "start_time": "2022-02-15T21:58:25.431368",
     "status": "completed"
    },
    "tags": []
   },
   "outputs": [],
   "source": [
    "def display_errors(errors_index,img_errors,pred_errors, obs_errors):\n",
    "    \"\"\" This function shows 6 images with their predicted and real labels\"\"\"\n",
    "    n = 0\n",
    "    nrows = 2\n",
    "    ncols = 2\n",
    "    fig, ax = plt.subplots(nrows,ncols,sharex=True,sharey=True)\n",
    "    for row in range(nrows):\n",
    "        for col in range(ncols):\n",
    "            error = errors_index[n]\n",
    "            ax[row,col].imshow((img_errors[error]).reshape((28,28)))\n",
    "            ax[row,col].set_title(\"Predicted label :{}\\nTrue label :{}\".format(pred_errors[error],obs_errors[error]))\n",
    "            n += 1"
   ]
  },
  {
   "cell_type": "code",
   "execution_count": 28,
   "id": "3c6c7ca0",
   "metadata": {
    "execution": {
     "iopub.execute_input": "2022-02-15T21:58:25.620216Z",
     "iopub.status.busy": "2022-02-15T21:58:25.619573Z",
     "iopub.status.idle": "2022-02-15T21:58:26.062467Z",
     "shell.execute_reply": "2022-02-15T21:58:26.061953Z",
     "shell.execute_reply.started": "2022-02-15T21:32:45.444010Z"
    },
    "papermill": {
     "duration": 0.504012,
     "end_time": "2022-02-15T21:58:26.062604",
     "exception": false,
     "start_time": "2022-02-15T21:58:25.558592",
     "status": "completed"
    },
    "tags": []
   },
   "outputs": [
    {
     "data": {
      "image/png": "[encoded data removed]",
      "text/plain": [
       "<Figure size 432x288 with 4 Axes>"
      ]
     },
     "metadata": {
      "needs_background": "light"
     },
     "output_type": "display_data"
    }
   ],
   "source": [
    "#Probabilities of the wrong predicted numbers\n",
    "y_pred_errors_prob = np.max(y_pred_errors,axis = 1)\n",
    "\n",
    "#Predicted probabilities of the true values in the error set\n",
    "true_prob_errors = np.diagonal(np.take(y_pred_errors, y_true_errors, axis=1))\n",
    "\n",
    "#Difference between the probability of the predicted label and the true label\n",
    "delta_pred_true_errors = y_pred_errors_prob - true_prob_errors\n",
    "\n",
    "#Sorted list of the delta prob errors\n",
    "sorted_dela_errors = np.argsort(delta_pred_true_errors)\n",
    "\n",
    "#Top 6 errors \n",
    "most_important_errors = sorted_dela_errors[-10:]\n",
    "\n",
    "#Show the top 6 errors\n",
    "display_errors(most_important_errors, X_val_errors, y_pred_classes_errors, y_true_errors)"
   ]
  },
  {
   "cell_type": "markdown",
   "id": "429371cb",
   "metadata": {
    "papermill": {
     "duration": 0.058975,
     "end_time": "2022-02-15T21:58:26.180898",
     "exception": false,
     "start_time": "2022-02-15T21:58:26.121923",
     "status": "completed"
    },
    "tags": []
   },
   "source": [
    "It seems inaccuracy error digits even looking with human eyes. We can consider that our model is very well even have these missclasses."
   ]
  },
  {
   "cell_type": "markdown",
   "id": "36ed9d03",
   "metadata": {
    "papermill": {
     "duration": 0.058672,
     "end_time": "2022-02-15T21:58:26.298739",
     "exception": false,
     "start_time": "2022-02-15T21:58:26.240067",
     "status": "completed"
    },
    "tags": []
   },
   "source": [
    "# **Prediction**"
   ]
  },
  {
   "cell_type": "code",
   "execution_count": 29,
   "id": "7d9507d0",
   "metadata": {
    "execution": {
     "iopub.execute_input": "2022-02-15T21:58:26.424114Z",
     "iopub.status.busy": "2022-02-15T21:58:26.423369Z",
     "iopub.status.idle": "2022-02-15T21:58:37.021038Z",
     "shell.execute_reply": "2022-02-15T21:58:37.020430Z",
     "shell.execute_reply.started": "2022-02-15T21:37:21.265649Z"
    },
    "papermill": {
     "duration": 10.662998,
     "end_time": "2022-02-15T21:58:37.021205",
     "exception": false,
     "start_time": "2022-02-15T21:58:26.358207",
     "status": "completed"
    },
    "tags": []
   },
   "outputs": [],
   "source": [
    "results = model.predict(test_x)\n",
    "\n",
    "# select the index with the maximum probability\n",
    "results = np.argmax(results,axis = 1)\n",
    "\n",
    "results = pd.Series(results,name=\"Label\")"
   ]
  },
  {
   "cell_type": "code",
   "execution_count": 30,
   "id": "07abb7a2",
   "metadata": {
    "execution": {
     "iopub.execute_input": "2022-02-15T21:58:37.141418Z",
     "iopub.status.busy": "2022-02-15T21:58:37.140435Z",
     "iopub.status.idle": "2022-02-15T21:58:37.201631Z",
     "shell.execute_reply": "2022-02-15T21:58:37.200857Z",
     "shell.execute_reply.started": "2022-02-15T21:37:48.925750Z"
    },
    "papermill": {
     "duration": 0.122636,
     "end_time": "2022-02-15T21:58:37.201873",
     "exception": false,
     "start_time": "2022-02-15T21:58:37.079237",
     "status": "completed"
    },
    "tags": []
   },
   "outputs": [
    {
     "name": "stdout",
     "output_type": "stream",
     "text": [
      "Successfully Completed!\n"
     ]
    }
   ],
   "source": [
    "#Submission\n",
    "\n",
    "submission = pd.concat([pd.Series(range(1,28001),name = \"ImageId\"),results],axis = 1)\n",
    "#submission\n",
    "submission.to_csv(\"submission.csv\",index=False)\n",
    "print(\"Successfully Completed!\")"
   ]
  }
 ],
 "metadata": {
  "kernelspec": {
   "display_name": "Python 3",
   "language": "python",
   "name": "python3"
  },
  "language_info": {
   "codemirror_mode": {
    "name": "ipython",
    "version": 3
   },
   "file_extension": ".py",
   "mimetype": "text/x-python",
   "name": "python",
   "nbconvert_exporter": "python",
   "pygments_lexer": "ipython3",
   "version": "3.7.12"
  },
  "papermill": {
   "default_parameters": {},
   "duration": 1217.331431,
   "end_time": "2022-02-15T21:58:40.456079",
   "environment_variables": {},
   "exception": null,
   "input_path": "__notebook__.ipynb",
   "output_path": "__notebook__.ipynb",
   "parameters": {},
   "start_time": "2022-02-15T21:38:23.124648",
   "version": "2.3.3"
  }
 },
 "nbformat": 4,
 "nbformat_minor": 5
}
